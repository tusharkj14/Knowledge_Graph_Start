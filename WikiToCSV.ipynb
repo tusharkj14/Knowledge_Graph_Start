{
  "nbformat": 4,
  "nbformat_minor": 0,
  "metadata": {
    "colab": {
      "name": "WikiToCSV.ipynb",
      "provenance": [],
      "authorship_tag": "ABX9TyMMwc2N/2HlAaUB310GSV8B",
      "include_colab_link": true
    },
    "kernelspec": {
      "name": "python3",
      "display_name": "Python 3"
    },
    "language_info": {
      "name": "python"
    }
  },
  "cells": [
    {
      "cell_type": "markdown",
      "metadata": {
        "id": "view-in-github",
        "colab_type": "text"
      },
      "source": [
        "<a href=\"https://colab.research.google.com/github/tusharkj14/Knowledge_Graph_Start/blob/main/WikiToCSV.ipynb\" target=\"_parent\"><img src=\"https://colab.research.google.com/assets/colab-badge.svg\" alt=\"Open In Colab\"/></a>"
      ]
    },
    {
      "cell_type": "code",
      "metadata": {
        "id": "2j-DMNS3XVq7"
      },
      "source": [
        "import requests\n",
        "import re\n",
        "import string\n",
        "from bs4 import BeautifulSoup\n",
        "import pandas as pd"
      ],
      "execution_count": null,
      "outputs": []
    },
    {
      "cell_type": "code",
      "metadata": {
        "id": "B4zfdui8Xc-E"
      },
      "source": [
        "Enter_input = \"Sachin Tendulkar\"\n",
        "u_i = string.capwords(Enter_input)\n",
        "lists = u_i.split()\n",
        "word = \"_\".join(lists)\n",
        "\n",
        "url = \"https://en.wikipedia.org/wiki/\"+word\n",
        "\n",
        "def rem_link(sent):\n",
        "    return re.sub(\"[\\(\\[].*?[\\)\\]]\", \"\", sent)"
      ],
      "execution_count": null,
      "outputs": []
    },
    {
      "cell_type": "code",
      "metadata": {
        "id": "GBFtohnKXq_b"
      },
      "source": [
        "def wikibot(url):\n",
        "    url_open = requests.get(url)\n",
        "    soup = BeautifulSoup(url_open.content, 'html.parser')\n",
        "    wiki_text = \"\"\n",
        "        \n",
        "    for i in range(1,len(soup('p'))):\n",
        "        wiki_text += str(rem_link(soup('p')[i].text))\n",
        "\n",
        "    return wiki_text\n",
        "\n"
      ],
      "execution_count": null,
      "outputs": []
    },
    {
      "cell_type": "code",
      "metadata": {
        "id": "p1KkbnPbYLks"
      },
      "source": [
        "SRT = wikibot(url)"
      ],
      "execution_count": null,
      "outputs": []
    },
    {
      "cell_type": "code",
      "metadata": {
        "colab": {
          "base_uri": "https://localhost:8080/",
          "height": 191
        },
        "id": "rCBE1vgEYMVV",
        "outputId": "a585d862-b6f8-44a5-acc0-95964c0ebe8c"
      },
      "source": [
        "SRT"
      ],
      "execution_count": null,
      "outputs": [
        {
          "output_type": "execute_result",
          "data": {
            "application/vnd.google.colaboratory.intrinsic+json": {
              "type": "string"
            },
            "text/plain": [
              "'Sachin Ramesh Tendulkar ; born 24 April 1973) is an Indian former international cricketer who served as captain of the Indian national team. He is widely regarded as one of the greatest batsmen in the history of cricket. He is the highest run scorer of all time in international cricket, and the only player to have scored one hundred international centuries, the first batsman to score a double century in a One Day International , the holder of the record for the most runs in both Test and ODI cricket, and the only player to complete more than 30,000 runs in international cricket. In 2013, he was the only Indian cricketer included in an all-time Test World XI named to mark the 150th anniversary of Wisden Cricketers\\' Almanack. He is affectionately known as Little Master or Master Blaster.\\nTendulkar took up cricket at the age of eleven, made his Test debut on 15 November 1989 against Pakistan in Karachi at the age of sixteen, and went on to represent Mumbai domestically and India internationally for close to twenty-four years. In 2002, halfway through his career, Wisden Cricketers\\' Almanack ranked him the second-greatest Test batsman of all time, behind Don Bradman, and the second-greatest ODI batsman of all time, behind Viv Richards. Later in his career, Tendulkar was a part of the Indian team that won the 2011 World Cup, his first win in six World Cup appearances for India. He had previously been named \"Player of the Tournament\" at the 2003 edition of the tournament, held in South Africa.\\nTendulkar received the Arjuna Award in 1994 for his outstanding sporting achievement, the Rajiv Gandhi Khel Ratna award in 1997, India\\'s highest sporting honour, and the Padma Shri and Padma Vibhushan awards in 1999 and 2008, respectively, India\\'s fourth- and second-highest civilian awards. After a few hours of his final match on 16 November 2013, the Prime Minister\\'s Office announced the decision to award him the Bharat Ratna, India\\'s highest civilian award. He is the youngest recipient to date and the first ever sportsperson to receive the award. He also won the 2010 Sir Garfield Sobers Trophy for cricketer of the year at the ICC awards. In 2012, Tendulkar was nominated to the Rajya Sabha, the upper house of the Parliament of India. He was also the first sportsperson and the first person without an aviation background to be awarded the honorary rank of group captain by the Indian Air Force. In 2012, he was named an Honorary Member of the Order of Australia.\\nIn 2010, Time magazine included Sachin in its annual Time 100 list as one of the \"Most Influential People in the World\".\\nIn December 2012, Tendulkar announced his retirement from ODIs. He retired from Twenty20 cricket in October 2013 and subsequently retired from all forms of cricket on 16 November 2013 after playing his 200th Test match, against the West Indies in Mumbai\\'s Wankhede Stadium. Tendulkar played 664 international cricket matches in total, scoring 34,357 runs.\\nIn 2019, Tendulkar was inducted into the ICC Cricket Hall of Fame.\\nTendulkar was born at Nirmal Nursing Home in Dadar, Bombay on 24 April 1973\\n\\n to a Maharashtrian family. His father, Ramesh Tendulkar, was a well-known Marathi novelist & poet and his mother, Rajni, worked in the insurance industry. Ramesh named Tendulkar after his favourite music director, Sachin Dev Burman. Tendulkar has three elder siblings: two half-brothers Nitin and Ajit, and a half-sister Savita. They were Ramesh\\'s children by his first wife, who died after the birth of her third child.\\nTendulkar spent his formative years in the Sahitya Sahawas Cooperative Housing Society in Bandra . As a young boy, Tendulkar was considered a bully, and often picked up fights with new children in his school. He also showed an interest in tennis, idolising John McEnroe. To help curb his mischievous and bullying tendencies, Ajit introduced the young Sachin to cricket in 1984. He introduced him to Ramakant Achrekar, a famous cricket coach and a club cricketer of repute, at Shivaji Park, Dadar. In the first meeting, the young Sachin did not play his best. Ajit told Achrekar that he was feeling self-conscious due to the coach observing him, and was not displaying his natural game. Ajit requested the coach to give him another chance at playing, but watch while hiding behind a tree. This time, Sachin, apparently unobserved, played much better and was accepted at Achrekar\\'s academy.\\nAchrekar was impressed with Tendulkar\\'s talent and advised him to shift his schooling to Sharadashram Vidyamandir  High School, a school at Dadar which had a dominant cricket team and had produced many notable cricketers. Prior to this, Tendulkar had attended the Indian Education Society\\'s New English School in Bandra . He was also coached under the guidance of Achrekar at Shivaji Park in the mornings and evenings. Tendulkar would practice for hours on end in the nets. If he became exhausted, Achrekar would put a one-rupee coin on the top of the stumps, and the bowler who dismissed Tendulkar would get the coin. If Tendulkar passed the whole session without getting dismissed, the coach would give him the coin. Tendulkar now considers the 13 coins he won then as some of his most prized possessions. He moved in with his aunt and uncle, who lived near Shivaji Park, during this period, due to his hectic schedule.\\nMeanwhile, at school, he developed a reputation as a child prodigy. He had become a common conversation point in local cricketing circles, where there were suggestions already that he would become one of the greats. Sachin consistently featured in the school team in the Matunga Gujarati Seva Mandal  Shield. Besides school cricket, he also played club cricket, initially representing John Bright Cricket Club in Bombay\\'s premier club cricket tournament, the Kanga League, and later went on to play for the Cricket Club of India. In 1987, at the age of 14, he attended the MRF Pace Foundation in Madras  to train as a fast bowler, but the Australian fast bowler Dennis Lillee, who took a world record 355 Test wickets, was unimpressed, suggesting that Tendulkar focus on his batting instead. On 20 January 1987, he also turned out as substitute for Imran Khan\\'s side in an exhibition game at Brabourne Stadium in Bombay, to mark the golden jubilee of Cricket Club of India. A couple of months later, former Indian batsman Sunil Gavaskar gave him a pair of his own ultra light pads and consoled him to not get disheartened for not getting the Bombay Cricket Association\\'s \"Best junior cricket award\" . \"It was the greatest source of encouragement for me,\" Tendulkar said nearly 20 years later after surpassing Gavaskar\\'s world record of 34 Test centuries. Sachin served as a ball boy in the 1987 Cricket World Cup when India played against England in the semifinal in Bombay. In his season in 1988, Tendulkar scored a century in every innings he played. He was involved in an unbroken 664-run partnership in a Lord Harris Shield inter-school game against St. Xavier\\'s High School in 1988 with his friend and teammate Vinod Kambli, who would also go on to represent India. The destructive pair reduced one bowler to tears and made the rest of the opposition unwilling to continue the game. Tendulkar scored 326  in this innings and scored over a thousand runs in the tournament. This was a record partnership in any form of cricket until 2006, when it was broken by two under-13 batsmen in a match held at Hyderabad in India.\\nOn 14 November 1987, the 14-year-old Tendulkar was selected to represent Bombay in the Ranji Trophy, India\\'s premier domestic First-class cricket tournament, for the 1987–88 season. However, he was not selected for the final eleven in any of the matches, though he was often used as a substitute fielder. He narrowly missed out on playing alongside his idol Gavaskar, who had retired from all forms of cricket after the 1987 Cricket World Cup. A year later, on 11 December 1988, aged 15 years and 232 days, Tendulkar made his debut for Bombay against Gujarat at home and scored 100 not out in that match, making him the youngest Indian to score a century on debut in first-class cricket. He was handpicked to play for the team by the then Bombay captain Dilip Vengsarkar after watching him easily negotiating India\\'s best fast bowler at the time, Kapil Dev, in the Wankhede Stadium nets, where the Indian team had come to play against the touring New Zealand team. He followed this by scoring a century in his first Deodhar and Duleep Trophies, which are also Indian domestic tournaments.\\nTendulkar finished the 1988–89 Ranji Trophy season as Bombay\\'s highest run-scorer. He scored 583 runs at an average of 67.77, and was the eighth-highest run-scorer overall. He also made an unbeaten century in the Irani Trophy match against Delhi at the start of the 1989–90 season, playing for the Rest of India. Sachin was picked for a young Indian team to tour England twice, under the Star Cricket Club banner in 1988 and 1989. In the famous 1990–91 Ranji Trophy final, in which Haryana defeated Bombay by two runs after leading in the first innings, Tendulkar\\'s 96 from 75 deliveries was a key to giving Bombay a chance of victory as it attempted to chase 355 from only 70 overs on the final day.\\nHis first double century  was for Mumbai while playing against the visiting Australian team at the Brabourne Stadium in 1998. He is the only player to score a century on debut in all three of his domestic first-class tournaments . Another double century was an innings of 233* against Tamil Nadu in the semi-finals of the 2000 Ranji Trophy, which he regards as one of the best innings of his career.\\nIn 1992, at the age of 19, Tendulkar became the first overseas-born player to represent Yorkshire, which prior to Tendulkar joining the team, never selected players even from outside Yorkshire. Selected for Yorkshire as a replacement for the injured Australian fast bowler Craig McDermott, Tendulkar played 16 first-class matches for the county and scored 1070 runs at an average of 46.52.\\nRaj Singh Dungarpur is credited for the selection of Tendulkar for the Indian tour of Pakistan in late 1989, after one first class season. The Indian selection committee had shown interest in selecting Tendulkar for the tour of the West Indies held earlier that year, but eventually did not select him, as they did not want him to be exposed to the dominant fast bowlers of the West Indies so early in his career. Tendulkar made his Test debut against Pakistan in Karachi in November 1989 aged 16 years and 205 days. He made 15 runs, being bowled by Waqar Younis, who also made his debut in that match, but was noted for how he handled numerous blows to his body at the hands of the Pakistani pace attack. In the fourth and final Test in Sialkot, he was hit on the nose by a bouncer bowled by Younis, but he declined medical assistance and continued to bat even as he gushed blood from it. In a 20-over exhibition game in Peshawar, held in parallel with the bilateral series, Tendulkar made 53 runs off 18 balls, including an over in which he scored 27 runs  off leg-spinner Abdul Qadir. This was later called \"one of the best innings I have seen\" by the then Indian captain Krishnamachari Srikkanth. In all, he scored 215 runs at an average of 35.83 in the Test series, and was dismissed without scoring a run in the only One Day International  he played. Thus Sachin Tendulkar became the youngest player to debut for India in Tests at the age of 16 years and 205 days and also the youngest player to debut for India in ODIs at the age of 16 years and 238 days.\\nThe series was followed by a tour of New Zealand in which he scored 117 runs at an average of 29.25 in Tests including an innings of 88 in the second Test. He was dismissed without scoring in one of the two one-day games he played, and scored 36 in the other. On his next tour, a summer tour to England of 1990, on 14 August, he became the second youngest cricketer to score a Test century as he made 119 not out in the second Test at Old Trafford in Manchester, an innings which contributed to a draw and saved India from certain defeat in the match. Wisden described his innings as \"a disciplined display of immense maturity\" and also wrote:\\nHe looked the embodiment of India\\'s famous opener, Gavaskar, and indeed was wearing a pair of his pads. While he displayed a full repertoire of strokes in compiling his maiden Test hundred, most remarkable were his off-side shots from the back foot. Though only 5ft 5in tall, he was still able to control without difficulty short deliveries from the English pacemen.Tendulkar further enhanced his reputation as a future great during the 1991–92 tour of Australia held before the 1992 Cricket World Cup, that included an unbeaten 148 in the third Test at Sydney, making him the youngest batsman to score a century in Australia. He then scored 114 on a fast, bouncing pitch in the final Test at Perth against a pace attack comprising Merv Hughes, Bruce Reid and Craig McDermott. Hughes commented to Allan Border at the time that \"This little prick\\'s going to get more runs than you, AB.\"\\nTendulkar\\'s performance through the years 1994–1999 coincided with his physical peak, in his early twenties. He opened the batting at Auckland against New Zealand in 1994, making 82 runs off 49 balls. He scored his first ODI century on 9 September 1994 against Australia in Sri Lanka at Colombo. It took him 78 ODIs to score his first century.\\nTendulkar\\'s rise continued when he was the leading run scorer at the 1996 World Cup, scoring two centuries. He was the only Indian batsman to perform well in the semi-final against Sri Lanka. Tendulkar fell amid a batting collapse and the match referee, Clive Lloyd, awarded Sri Lanka the match after the crowd began rioting and throwing litter onto the field.\\nAfter the World Cup, in the same year against Pakistan at Sharjah, Indian captain Mohammed Azharuddin was going through a lean patch. Tendulkar and Navjot Singh Sidhu both made centuries to set a then record partnership for the second wicket. After getting out, Tendulkar found Azharuddin in two minds about whether he should bat. Tendulkar convinced Azharuddin to bat and Azharuddin subsequently unleashed 24 runs off one over. India went on to win that match. It enabled India to post a score in excess of 300 runs for the first time in an ODI.\\nThis was the beginning of a period at the top of the batting world, culminating in the Australian tour of India in early 1998, with Tendulkar scoring three consecutive centuries. The focus was on the clash between Tendulkar, the world\\'s most dominating batsman and Shane Warne, the world\\'s leading spinner, both at the peak of their careers, clashing in a Test series. In the lead-up to the series, Tendulkar simulated scenarios in the nets with Laxman Sivaramakrishnan, the former India leg spinner, donning the role of Warne. In their tour opener, Australia faced the then Ranji Champions Mumbai at the Brabourne Stadium in a three-day first class match. Tendulkar made an unbeaten 204 as Shane Warne conceded 111 runs in 16 overs and Australia lost the match within three days. He also had a role with the ball in the five-match ODI series in India following the Tests, including a five wicket haul in an ODI in Kochi. Set 310 runs to win, Australia were cruising at 203 for 3 in the 31st over when Tendulkar turned the match for India, taking the wickets of Michael Bevan, Steve Waugh, Darren Lehmann, Tom Moody and Damien Martyn for 32 runs in 10 overs. The Test match success was followed by two consecutive centuries in April 1998 in a Triangular cricket tournament in Sharjah—the first in a must-win game to take India to the finals and then again in the finals, both against Australia. These twin knocks were also known as the Desert Storm innings. Following the series, Warne ruefully joked that he was having nightmares about his Indian nemesis.\\nTendulkar\\'s contribution in the ICC 1998 quarterfinal at Dhaka paved the way for India\\'s entry into the semifinals, when he took four Australian wickets after scoring 141 runs in 128 balls.\\nThe inaugural Asian Test Championship took place in February and March 1999, involving India, Pakistan, and Sri Lanka. In the first match, between India and Pakistan in Eden Gardens, Tendulkar was run out for nine after colliding with Pakistan bowler Shoaib Akhtar. Around 100,000 people came to support India during the initial four days of the tournament, breaking a 63-year-old record for aggregate Test attendance record. The crowd\\'s reaction to Tendulkar\\'s dismissal was to throw objects at Akhtar, and the players were taken off the field. The match resumed after Tendulkar and the president of the ICC appealed to the crowd; however, further rioting meant that the match was finished in front of a crowd of 200\\xa0people. Tendulkar scored his 19th Test century in the second Test and the match resulted in a draw with Sri Lanka. India did not progress to the final, which was won by Pakistan, and refused to participate the next time the championship was held due to increasing political tensions between India and Pakistan.\\nIn the Test against Pakistan at Chepauk in 1999, the first of a two-Test series, Sachin scored 136 in the fourth innings with India chasing 271 for victory. However, he was out when India needed 17 more runs to win, triggering a batting collapse, and India lost the match by 12 runs. The worst was yet to come as Professor Ramesh Tendulkar, Sachin\\'s father, died in the middle of the 1999 Cricket World Cup. Tendulkar flew back to India to attend the final rituals of his father, missing the match against Zimbabwe. However, he returned to the World Cup scoring a century  in his very next match against Kenya in Bristol. He dedicated this century to his father.\\nTendulkar\\'s two tenures as captain of the Indian cricket team were not very successful. When Tendulkar took over as captain in 1996, it was with huge hopes and expectations. However, by 1997 the team was performing poorly. Azharuddin was credited with saying \"Nahin jeetega! Chote ki naseeb main jeet nahin hai!\", which translates into: \"He won\\'t win! It\\'s not in the small one\\'s destiny!\".\\nTendulkar, succeeding Azharuddin as captain for his second term, led India on a tour of Australia, where the visitors were beaten 3–0 by the newly crowned world champions. Tendulkar, however, won the player of the series award as well as player of the match in one of the games. After another Test series defeat, this time by a 0–2 margin at home against South Africa, Tendulkar resigned, and Sourav Ganguly took over as captain in 2000.\\nDuring the Indian team\\'s 2007 tour of England, the desire of Rahul Dravid to resign from the captaincy became known. The BCCI President Sharad Pawar offered the captaincy to Tendulkar, who instead recommended Mahendra Singh Dhoni to take over the reins. Pawar later revealed this conversation, crediting Tendulkar for first forwarding the name of Dhoni, who since achieved much success as captain.\\nIn India\\'s 2001 tour of South Africa in the second test match between India and South Africa at St George\\'s Park, Port Elizabeth, match referee Mike Denness fined four Indian players for excessive appealing, as well as fined the Indian captain Sourav Ganguly for not controlling his team. Tendulkar was given a suspended ban of one game by Denness in light of alleged ball tampering. Television cameras picked up images that suggested Tendulkar may have been involved in cleaning the seam of the cricket ball. This can, under some conditions, amount to altering the condition of the ball. Denness found Sachin Tendulkar guilty of ball tampering charges and handed him a one Test match ban. The incident escalated to include sports journalists accusing Denness of racism, and led to Denness being barred from entering the venue of the third Test match. The ICC revoked the status of the match as a Test as the teams rejected the appointed referee. The charges against Tendulkar and Sehwag\\'s ban for excessive appealing triggered a massive backlash from the Indian public.\\nSachin Tendulkar continued performing well in Test cricket in 2001 and 2002, with some pivotal performances with both bat and ball. Tendulkar took three wickets on the final day of the famous Kolkata Test against Australia in 2001, including the key wickets of Matthew Hayden and Adam Gilchrist, who were centurions in the previous Test. His three wickets haul helped India win the match. In the five-match ODI series that followed, he took his 100th wicket in ODIs, claiming the wicket of then Australian captain Steve Waugh in the final match at the Fatorda Stadium in Goa.\\nIn the 2002 series in the West Indies, Tendulkar started well, scoring 79 in the first Test. In the second Test at Port of Spain, Sachin Tendulkar scored 117 in the first innings, his 29th Test century in his 93rd Test match, to equal Sir Donald Bradman\\'s record of 29 Test hundreds. He was gifted a Ferrari 360 Modena by Fiat through Michael Schumacher for achieving this feat.\\nThen, in a hitherto unprecedented sequence, he scored 0, 0, 8 and 0 in the next four innings. He returned to form in the last Test scoring 41 and 86, one half century. However, India lost the series. In this period, in the third Test match against England in August 2002, Sachin scored his 30th Test century to surpass Bradman\\'s haul, in his 99th Test match.\\nTendulkar made 673 runs in 11 matches in the 2003 Cricket World Cup, helping India reach the final. While Australia retained the trophy that they had won in 1999, Tendulkar was given the Man of the Tournament award.\\nHe continued to score heavily in ODI cricket that year, with two hundreds in a tri-series involving New Zealand and Australia. As a part-time bowler, he dismissed an exhausted centurion, Matthew Hayden in the tri-series final.\\nThe drawn series as India toured Australia in 2003–04 saw Tendulkar making his mark in the last Test of the series, scoring 241 not out from 436 balls with 33 fours at a strike rate of 55.27 in Sydney, putting India in a virtually unbeatable position. He spent 613 minutes at the crease during the innings. He followed this up with an unbeaten 60 in the second innings of the Test. Prior to this Test match, he had had an unusually horrible run of form, failing in all six innings in the preceding three Tests. It was no aberration that 2003 was his worst year in Test cricket, with an average of 17.00 and just one fifty.\\nTendulkar scored an unbeaten 194 against Pakistan at Multan in the following series. Indian captain Rahul Dravid declared before Tendulkar reached 200; had he done so it would have been the fourth time he had passed the landmark in Tests. Tendulkar said that he was disappointed and that the declaration had taken him by surprise. Many former cricketers commented that Dravid\\'s declaration was in bad taste. After the match, which India won, Dravid said that the matter had been discussed internally and put to rest.\\nA tennis elbow injury then took its toll on Tendulkar, leaving him out of the side for most of the year, coming back only for the last two Tests when Australia toured India in 2004. He played a part in India\\'s victory in Mumbai in that series with a fast 55, though Australia took the series 2–1.\\nOn 10 December 2005 at Feroz Shah Kotla, Tendulkar scored his record-breaking 35th Test century, against the Sri Lankans. After this, Tendulkar endured the longest spell of his career without a Test century: 17\\xa0innings elapsed before he scored 101 against Bangladesh in May 2007. Tendulkar scored his 39th ODI hundred on 6 February 2006 in a match against Pakistan. He followed with a 42 in the second One-Day International against Pakistan on 11 February 2006, and then a 95 in hostile, seaming conditions on 13 February 2006 in Lahore, which set up an Indian victory. On 19 March 2006, after being dismissed for only one run against England in the first innings of the third Test in his home ground, Wankhede, Tendulkar was booed off the ground by a section of the crowd, the first time that he had ever faced such flak. Tendulkar ended the three-Test series without a half-century to his credit, and the need for a shoulder operation raised more questions about his longevity.\\nTendulkar\\'s comeback came in the DLF cup in Malaysia and he was the only Indian batsman to shine. In his comeback match, against West Indies on 14 September 2006, Tendulkar responded to his critics who believed that his career was inexorably sliding with his 40th ODI century. Though he scored 141 not out, West Indies won the rain-affected match by the D/L method.\\nDuring the preparation for the 2007 World Cup, Tendulkar\\'s attitude was criticised by Indian team coach Greg Chappell. Chappell reportedly felt that Tendulkar would be more useful down the order, while the latter felt that he would be better off opening the innings, the role he had played for most of his career. Chappell also believed that Tendulkar\\'s repeated failures were hurting the team\\'s chances. In a rare show of emotion, Tendulkar hit out at the comments attributed to Chappell by pointing out that no coach had ever suggested his attitude towards cricket was incorrect. On 7 April 2007, the Board of Control for Cricket in India issued a notice to Tendulkar asking for an explanation for his comments made to the media. Chappell subsequently resigned as coach but said that this affair had no bearing on his decision and that he and Tendulkar were on good terms.\\nAt the World Cup in the West Indies, Tendulkar and the Indian cricket team led by Rahul Dravid had a dismal campaign. Tendulkar, who was pushed to bat lower down the order had scores of 7 against Bangladesh, 57 not out against Bermuda and 0 against Sri Lanka. As a result, former Australian captain Ian Chappell, brother of Greg, called for Tendulkar to retire in his newspaper column.\\nIn the subsequent Test series against Bangladesh, Tendulkar returned to his opening slot and was chosen as the Man of the Series. He continued by scoring 99 and 93 in the first two matches of the Future Cup against South Africa. During the second match, he also became the first to score 15,000 runs in ODIs. He was the leading run scorer and was adjudged the Man of the Series.\\nOn the second day of the Nottingham Test on 28 July 2007, Tendulkar became the third cricketer to complete 11,000 Test runs.\\nIn the subsequent one-day series against England, Tendulkar was the leading run scorer from India with an average of 53.42. In the ODI Series against Australia in October 2007 Tendulkar was the leading Indian run scorer with 278 runs.\\nTendulkar was dismissed seven times in 2007 between 90 and 100, including three times at 99, leading some to suggestions that he struggles to cope with nervousness in this phase of his innings. Tendulkar has got out 27 times in the 90s during his international career. In a five-ODI series against Pakistan, he was caught by Kamran Akmal off the bowling of Umar Gul for 99 in the second match at Mohali, and in the fourth match of that series, he got out in the 90s for a second time, scoring 97 before dragging a delivery from Gul on to his stumps.\\nIn the Border-Gavaskar Trophy, 2007–08, Tendulkar showed exceptional form, becoming the leading run scorer with 493 runs in four Tests, despite consistently failing in the second innings. Sachin scored 62 runs in the first innings of the first Test at the MCG in Melbourne, but could not prevent a heavy 337-run win for Australia. In the controversial New Years\\' Test at Sydney, Tendulkar scored an unbeaten 154, even though India lost the Test. This was his third century at the SCG and his 38th Test century overall, earning him an average of 326 at the ground at the time of completing the innings. In the third Test at the WACA cricket ground in Perth, Sachin was instrumental in India\\'s first innings score of 330, scoring a well-compiled 71. India went on to record a historic triumph at the WACA, ending Australia\\'s run of 16 consecutive wins. In the fourth Test at the Adelaide Oval, which ended in a draw, he scored 153 in the first innings, being involved in a crucial 126-run stand with V.V.S. Laxman for the fifth wicket to lead India to a score of 282 for 5 from 156 for 4. He secured the Man of the Match award.\\nIn the One-Day International Commonwealth Bank Tri-Series involving India, Sri Lanka and Australia, Tendulkar became the only batsman to complete 16,000 runs in ODIs. He achieved this feat against Sri Lanka on 5 February 2008 at the Gabba in Brisbane. He started the series wth scores of 10, 35, 44 and 32. His form dipped a bit in the middle of the tournament, but Tendulkar came back strongly in India\\'s must-win game against Sri Lanka at the Bellerive Oval in Hobart, scoring 63 off 54 balls. He finished the series with a match winning 117 not out off 120 balls in the first final, and 91 runs in the second final. Both the knocks were nominated to be the ODI Batting Performance of the year by ESPNCricinfo.\\nSouth Africa toured in March and April 2008 for a three-Test series. Tendulkar scored a five-ball duck in his only innings of the series; he sustained a groin strain in the match and as a result was forced not only to miss the second and third Tests, but also the tri-series involving Bangladesh, the 2008 Asia Cup, and the first half of the inaugural season of the IPL.\\nBefore the Indian cricket team\\'s tour of Sri Lanka in July 2008, Tendulkar needed 177 runs to go past Brian Lara\\'s record of Test 11,953 runs. However, he failed in all six innings, scoring a total of 95 runs. India lost the series and his average of 15.83 was his worst in a Test series with at least three matches.\\nIn the following ODI series against Sri Lanka, Tendulkar was sidelined due to injury. However, during the following Australia tour of India, he returned to fitness and form, scoring 13 and 49 in the first Test before making 88 in the first innings of the second Test, breaking the record for most Test runs held by Brian Lara. He also reached the 12,000-run mark when he was on 61. He described the achievement as the biggest in 19 years of his career on the day he achieved the record. He made a fifty in the third Test and 109 in the fourth, as India won the series 2–0 and regained the Border-Gavaskar Trophy.\\nTendulkar was again out of the first three ODIs of a seven-match ODI series at home against England due to an injury, but he made 11 in the fourth ODI and 50 in the fifth, before the series was called off due to the 2008 Mumbai terrorist attacks, the scoreline being 5–0 to India.\\nEngland returned for a two-match Test series in December 2008, and the first Test, which was originally planned to be held in Mumbai, was shifted to Chennai following the terror attacks. Chasing 387 for victory in that match, Tendulkar scored 103 not out and shared a 163-run unbroken fifth wicket partnership with Yuvraj Singh. This was his third century in the fourth innings of a Test match, and the first which resulted in a win. He dedicated this century to the victims of the Mumbai terror attacks. The knock was nominated to be one of the Test Batting Performance of the year by ESPNCricinfo. Tendulkar scored poorly in the second Test at Mohali, which ended in a draw. India won the series 1–0.\\nIn early 2009, India revisited Sri Lanka for five ODIs, as the Pakistan series had been cancelled due to the security situation in Pakistan and the attacks in Mumbai. Tendulkar scored 5, 6 and 7 in the first three matches, being dismissed leg before wicket in all of them, and did not play in the remaining two matches.\\nIndia\\'s next assignment was an away series against New Zealand, consisting of three Tests and five ODIs. In the ODI series, Tendulkar made an unbeaten 163 in the third match before stomach cramps forced him to end his innings. India made 392, won the match and eventually won the series 3–1. Tendulkar made 160 in the first Test, his 42nd Test century, and India won. He made 49 and 64 in the second Test and 62 and 9 in the third, in which play was halted on the last day due to rain with India needing only two wickets to win. India won the series 1–0.\\nTendulkar rested himself for the ODI tour of West Indies, but was back for the Compaq Cup Tri Series between India, Sri Lanka and New Zealand in early September 2009. He made 46 and 27 in the league matches before notching up 138 in the final, as India made 319 and won by 46 runs. This was Tendulkar\\'s sixth century in a final of an ODI tournament and his third consecutive score of over 50 in such finals.\\nTendulkar played only one innings in the ICC Champions trophy in South Africa, scoring 8 against Pakistan as India lost. The next match against Australia was abandoned due to rain and he was out with a stomach infection in the third match against the West Indies, as India were eliminated.\\nAustralia returned for a seven-match ODI series in India in October, and Tendulkar made 14, 4, 32 and 40 in the first four games. In the fifth match, with the series tied at 2–2, Australia amassed 350/4 in 50 overs. Tendulkar made his 45th ODI hundred, a 175 off 141 balls. Just when it seemed that he would steer India to the large victory target, he tried to scoop a slower delivery from debutant bowler Clint McKay over short fine leg only to be caught by Nathan Hauritz, with India needing 19 runs to win with 18 balls and four wickets left. The Indian tail collapsed, and Australia won the match by three runs. During this match, Tendulkar also became the first player to reach 17,000 ODI runs, and achieved his personal best against Australia, as well as the third-highest score in a defeat. The knock was voted as the Best ODI Batting Performance of 2009 by ESPNCricinfo.\\nIn the five-match ODI series against Sri Lanka in 2009–10, Tendulkar scored 69, 43, 96 not out and 8 in the first four matches, with the fifth match being abandoned as the pitch was deemed unfit and potentially dangerous. India won the series 3–1. In the Test series that followed, he scored a 100 not out in the first Test, which was drawn, and 40 and 53 in the second and third Tests, respectively, as India clinched innings victories in both the Tests, to win the series 2–0.\\nSachin rested himself for the ODI tri-series in Bangladesh in 2010, but played in the subsequent Test series. He made 105 not out and 16 in the first Test, and 143 in the second. India won both the Tests.\\nIn the two-Test Series against South Africa, Tendulkar made 7 and 100 in the first Test. He then scored 106 in the first innings of the second Test, which was his 47th hundred in Test cricket. It was also his fourth hundred in successive Tests, and he was the fourth Indian to achieve this feat. In the second match of the subsequent ODI series, Tendulkar scored 200 not out, becoming the world\\'s first batsman to score a double century in ODI cricket and breaking the previous highest score of 194 jointly held by Pakistan\\'s Saeed Anwar and Zimbabwe\\'s Charles Coventry.\\nFrom February to April, Bangladesh, India, and Sri Lanka hosted the 2011 World Cup. Amassing 482\\xa0runs at an average of 53.55 including two centuries, Tendulkar was India\\'s leading run-scorer for the tournament; only Tillakaratne Dilshan of Sri Lanka scored more runs in the 2011 tournament, and was named in the ICC \\'Team of the Tournament\\'. India defeated Sri Lanka in the final. Shortly after the victory, Tendulkar commented that \"Winning the World Cup is the proudest moment of my life.\\xa0... I couldn\\'t control my tears of joy.\"\\nIndia were due to tour the West Indies in June, although Tendulkar chose not to participate. He returned to the squad in July for India\\'s tour of England. Throughout the tour there was much hype in the media about whether Tendulkar would reach his 100th century in international cricket . However, his highest score in the Tests was 91; Tendulkar averaged 34.12 in the series as England won 4–0 as they deposed India as the No.\\xa01 ranked Test side. The injury Tendulkar sustained to his right foot in 2001 flared up and as a result he was ruled out of the ODI series that followed. Tendulkar created another record on 8 November 2011 when he became the first cricketer to score 15,000 runs in Test cricket, during the opening Test match against the West Indies at the Feroz Shah Kotla Stadium in New Delhi. For his performances in 2011, he was named in the World Test XI by the ICC.\\nIan Chappell was not happy with Sachin\\'s performance after India\\'s tour of Australia. He says that Sachin\\'s quest for his 100th hundred has proved to be a hurdle for the entire team and has hampered their performance on the Tour of Australia. Former India World Cup winning captain and all-rounder Kapil Dev has also voiced his opinion that Sachin should have retired from ODI\\'s after the World Cup. Former Australian fast bowler, Geoff Lawson, has said that Sachin has the right to decide when to quit although he adds that Tendulkar should not delay it for too long.\\nThe selection committee of BCCI expectedly included Sachin in the national Test squad for the upcoming series against New Zealand commencing in August 2012.\\nTendulkar scored his 100th international hundred on 16 March 2012, at Mirpur against Bangladesh in the Asia Cup. He became the first person in history to achieve this feat, which was also his first ODI hundred against Bangladesh. He said \"It\\'s been a tough phase for me\\xa0... I was not thinking about the milestone, the media started all this, wherever I went, the restaurant, room service, everyone was talking about the 100th hundred. Nobody talked about my 99\\xa0hundreds. It became mentally tough for me because nobody talked about my 99\\xa0hundreds.\" Despite Tendulkar\\'s century, India failed to win the match against Bangladesh, losing by 5 wickets.\\nAfter being bowled out in three similar instances against New Zealand and hitting a slump in form, Tendulkar returned to the Ranji Trophy to get back some form ahead of the England Series at home, in a match for Mumbai against Railways on 2 November 2012. This was his first Ranji Trophy match since 2009. He scored 137 off 136 balls, with 21 fours and 3 sixes, to take his team to 344 for 4 at stumps on day one.\\nHowever, because of a poor form in the first two Tests in the series against England, and India being humiliated in the second match of that series by 10 wickets on 26 November 2012, some people have started to question his place in the Indian team. A report by The Hindustan Times said that Tendulkar had a discussion with the national chief selector Sandeep Patil, in which he said that he would leave it to the selectors to decide on his future as he is not getting any runs. This speculation, however, was later considered to be false.\\nThen he decided to play in the knockout stage of the 2012–13 Ranji Trophy. He scored 108 in the quarter final against Baroda before being bowled by Murtuja Vahora, where Sachin was involved in a 234-run partnership with opener Wasim Jaffer  for the 3rd wicket at Wankhede Stadium. Mumbai eventually piled on 645/9 and won on 1st innings lead. In the semi final against Services at Palam A Ground, with Mumbai reeling at 23/3, Sachin scored 56 from 75 balls and had an 81-run 4th wicket partnership with Abhishek Nayar , and Mumbai eventually won on 1st innings lead after the match went into the sixth day due to rain delays. In the final against Saurashtra, he was run out for 22 following a misunderstanding with Wasim Jaffer. Mumbai eventually won the Ranji Trophy 2012–13.\\nHe also played in the Irani Trophy for Mumbai, where he scored 140* against Rest of India and helped Mumbai to score 409 in reply to Rest of India\\'s 526. This was also his 81st hundred in first-class cricket, equalling Sunil Gavaskar\\'s Indian record for most first-class hundreds.\\nFollowing poor performance in the 2012 series against England, Tendulkar announced his retirement from One Day Internationals on 23 December 2012, while noting that he will be available for Test cricket. In response to the news, former India captain Sourav Ganguly noted that Tendulkar could have played the up-coming series against Pakistan, while Anil Kumble said it would be \"tough to see an Indian  team list without Tendulkar\\'s name in it\", and Javagal Srinath mentioned that Tendulkar \"changed the way ODIs were played right from the time he opened in New Zealand in 1994\".\\nAfter playing a Twenty20 International in 2006 against South Africa, he said that he would not play the format again. He announced his retirement from the IPL after his team, Mumbai Indians, beat Chennai Super Kings by 23 runs at the Eden Gardens in Kolkata on 26 May to win the Indian Premier League 2013. He retired from Twenty20 cricket and limited-overs cricket, after playing the 2013 Champions League Twenty20 in September–October 2013 in India for Mumbai Indians.\\nOn 10 October 2013 Tendulkar announced that he would retire from all cricket after the two-Test series against West Indies in November. At his request, the BCCI arranged that the two matches be played at Kolkata and Mumbai so that the farewell would happen at his home ground. He scored 74 runs in his last Test innings against West Indies, thus failing short by 79 runs to complete 16,000 runs in Test cricket, the next man to bat after him was the future captain Virat Kohli. The Cricket Association of Bengal and the Mumbai Cricket Association organised events to mark his retirement from the sport. Various national and international figures from cricket, politics, Bollywood and other fields spoke about him in a day-long Salaam Sachin Conclave organised by India Today.\\nIn July 2014, he captained the MCC side in the Bicentenary Celebration match at Lord\\'s.\\nIn December 2014, he was announced ambassador of the ICC Cricket World Cup 2015 event. It is his second term as he has already held the ambassador of the previous ICC Cricket World Cup 2011. So he is heading the ambassador position of the ICC Cricket world cup in consecutive terms of the cricket world cup .\\nHe acted as a coach for the Ponting XI during The Big Appeal. During the innings break, he batted an over against Ellyse Perry and Annabel Sutherland at Perry\\'s request.\\nHe captained the India legends team to victory in the 2020–21 Road Safety World Series and was the leading run scorer for the Indian team in the tournament.\\nTendulkar was made the Icon player and captain for his home side, the Mumbai Indians in the inaugural Indian Premier League Twenty20 competition in 2008. As an icon player, he was signed for a sum of US$1,121,250, 15% more than the second-highest paid player in the team, Sanath Jayasuriya.\\nIn 2010 edition of Indian Premier League, Mumbai Indians reached the final of the tournament. Tendulkar made 618 runs in 14 innings during the tournament, breaking Shaun Marsh\\'s record of most runs in an IPL season. He was declared player of the tournament for his performance during the season. He also won Best Batsman and Best Captain awards at 2010 IPL Awards ceremony. Sachin has scored more than 500 runs in IPL in two different seasons as a captain.\\nSachin Tendulkar captained Mumbai Indians in 4 league matches of second edition of the league. He scored 68 in the first match and 48 against Guyana. But Mumbai Indians failed to qualify for semifinals after losing the initial two matches. Tendulkar scored 135 runs.\\nIn the 2011 IPL, against Kochi Tuskers Kerala, Tendulkar scored his maiden Twenty20\\xa0hundred. He scored 100 not out off 66 balls. In 2013, Sachin retired from Indian Premier League and in 2014 he was appointed as the Mumbai Indian\\'s \\'Team Icon\\'. His last match for the team was the \\nfinal of the 2013 Champions League, where he scored 14 runs in an Indians victory. In his 78\\xa0matches in the IPL, Tendulkar scored a total of 2,334 runs; at the time of his retirement he was the fifth-highest run-scorer in the competition\\'s history. Mumbai Indians retired his number 10 jersey as a tribute to Tendulkar.\\nTendulkar is cross-dominant: he bats, bowls and throws with his right hand, but writes with his left hand. He also practices left-handed throws at the nets on a regular basis. Cricinfo columnist Sambit Bal has described him as the \"most wholesome batsman of his time\". His batting is based on complete balance and poise while limiting unnecessary movements and flourishes. He appears to show little preference for the slow and low wickets which are typical in India, and has scored many centuries on the hard, bouncy pitches in South Africa and Australia. He is known for his unique punch style of hitting the ball over square. He is also renowned for his picture-perfect straight drive, often completed with no follow-through. The straight drive is often said to be his favourite shot. In 2008, Sunil Gavaskar, in an article he wrote in the AFP, remarked that \"it is hard to imagine any player in the history of the game who combines classical technique with raw aggression like the little champion does\". Equipment-wise, his bats tend to be heavier than the average batman.\\nSir Donald Bradman, considered by many as the greatest batsman of all time, considered Tendulkar to have a batting style similar to his. In his biography, it is stated that \"Bradman was most taken by Tendulkar\\'s technique, compactness and shot production, and had asked his wife to have a look at Tendulkar, having felt that Tendulkar played like him. Bradman\\'s wife, Jessie, agreed that they did appear similar.\"\\nFormer Australian cricket team coach John Buchanan voiced his opinion that Tendulkar had become susceptible to the short ball early in his innings because of a lack of footwork. Buchanan also believes Tendulkar has a weakness while playing left-arm pace. He was affected by a series of injuries since 2004. Since then Tendulkar\\'s batting has tended to be less attacking. Explaining this change in his batting style, he has acknowledged that he is batting differently because, firstly, no batsman can bat the same way for the entire length of a long career and, secondly, he is a senior member of the team now and thus has more responsibility. During the early part of his career, he was a more attacking batsman and frequently scored centuries at close to a run a ball. Ian Chappell, former Australian player, remarked in 2007 that \"Tendulkar now, is nothing like the player he was when he was a young bloke\".\\nTendulkar has incorporated several modern and unorthodox strokes into his repertoire, including the paddle sweep, the scoop over short fine leg and the slash to third man over the slips\\' heads, especially in his later years. He is often praised for his ability to adapt to the needs of his body and yet keep scoring consistently.\\nWhile Tendulkar was not a regular bowler, he could bowl medium pace, leg spin, and off spin. He often bowled when two batsmen of the opposite team had been batting together for a long period, as he could often be a useful partnership breaker. With his bowling, he helped secure an Indian victory on more than one occasion. He took 201 international wickets—46 in Tests, 154 in ODIs where he is India\\'s twelfth-highest wicket taker, and one wicket in Twenty20 Internationals.\\nTendulkar\\'s consistent performances earned him a fan following across the globe, including amongst Australian crowds, where Tendulkar has consistently scored centuries. One of the most popular sayings by his fans is \"Cricket is my religion and Sachin is my God\". Cricinfo mentions in his profile that \"...\\xa0Tendulkar remains, by a distance, the most worshipped cricketer in the world.\"\\nDuring the Australian tour of India in 1998 Matthew Hayden said \"I have seen God. He bats at no. 4 in India in Tests.\" However, on God, Tendulkar himself is reported to have said \"I am not God of cricket. I make mistakes, God doesn\\'t.\" Tendulkar made a special appearance in the Bollywood film Stumped in 2003, appearing as himself.\\nOn 24 February 2010, Cricinfo site could not handle the heavy traffic experienced after Tendulkar broke the record for the highest individual male score in a One Day International match against South Africa, also becoming the first player to score 200* in the history of ODIs as more than 5 million fans visited the website at a time.\\nThere have been many instances when Tendulkar\\'s fans have undertaken extreme activities over his dismissal in the game. As reported by many Indian newspapers, a person hanged himself due to distress over Tendulkar\\'s failure to reach his 100th century.\\nAt home in Mumbai, Tendulkar\\'s fan following has caused him to lead a different lifestyle. Ian Chappell has said that he would be unable to cope with the lifestyle Tendulkar was forced to lead, having to \"wear a wig and go out and watch a movie only at night\". In an interview with Tim Sheridan, Tendulkar admitted that he sometimes went for quiet drives in the streets of Mumbai late at night when he would be able to enjoy some peace and silence. Tendulkar has a presence in the popular social networking site Twitter with the user name sachin_rt, since May 2010.\\nSachin Tendulkar is the leading run scorer in Tests, with 15,921 runs, as well as in One-Day Internationals, with 18,426 runs. He is the only player to score more than 30,000 runs in all forms of international cricket . He is the 16th player and the first Indian to score 50,000 runs in all forms of domestic and international recognised cricket . He achieved this feat on 5 October 2013, during a Champions League Twenty20 match for his IPL team Mumbai Indians against Trinidad and Tobago.\\nIn 2012, Tendulkar was ranked number 8 in Outlook India\\'s poll of the Greatest Indian.\\nHe also holds the record of the highest number of centuries in both Tests  and ODIs  as well as in Tests and ODIs combined . On 16 March 2012, Tendulkar scored his 100th international hundred. It came against Bangladesh in the league matches of Asia Cup 2012. He is also the only player to score fifty centuries in Test cricket, and the first to score fifty centuries in all international cricket combined. He also holds the world record for playing the highest number of Test matches  and ODI matches . Tendulkar has been part of most wins by an Indian in both Test cricket with 72 wins and ODIs with 234 wins and is third in the world in ODI victories after Ricky Ponting , Mahela Jayawardene .\\nTendulkar has scored over 1,000 runs in a calendar year in ODIs 7 times, and in 1998 he scored 1,894 runs, the record for the highest number of runs scored by any player in a single calendar year for One-Day Internationals. He is the first male cricketer to score a double-century in one-day cricket.\\nHe has been Man of the Match 13 times in Test matches and Man of the Series four times, out of them twice in the Border-Gavaskar Trophy against Australia. The performances earned him respect from Australian cricket fans and players. Similarly he has been Man of the Match 62 times in One day International matches and Man of the Series 15 times. He became the first batsman to score 12,000, 13,000, 14,000 and 15,000 runs in Test cricket, having also been the third batsman and the first Indian to pass 11,000 runs in that form of the game. He was also the first player to score 10,000 runs in one-day internationals, and also the first player to cross every subsequent 1,000-run mark that has been crossed in ODI cricket history. In the fourth Test of the 2008–09 Border-Gavaskar Trophy against Australia at Nagpur on 6 November 2008, Tendulkar surpassed Australia\\'s Allan Border to become the player to cross the 50-run mark the most times in Test cricket history, and also the second ever player to score 11 Test centuries against Australia, tying with Sir Jack Hobbs of England more than 70 years previously. On 8 November 2011, Tendulkar became the first batsman to score 15,000 runs in Test Cricket.\\nTendulkar has consistently done well in Cricket World Cups. He was the highest run scorer of the 1996 Cricket World Cup with a total of 523 runs and also of the 2003 Cricket World Cup with 673 runs. After his century against England during group stages of 2011 Cricket World Cup, he became the player to hit most centuries in Cricket World Cups with six centuries and the first player to score 2000 runs in World Cup cricket.\\nTendulkar was also one half of the most prolific Test cricket partnership to date, alongside Rahul Dravid. Batting together, they scored 6920 runs for India at a partnership average of over fifty runs.\\nOn 24 May 1995, Tendulkar married Anjali Mehta , a paediatrician of Gujarati origin, whom he had first met in 1990. They have a daughter Sara and a son Arjun whose skills in cricket as a teenager have been receiving attention.\\nTendulkar is a practising Hindu. He is a devotee of the deity Ganesha and has been a devotee of Sathya Sai Baba of Puttaparthi, whom he visited for the first time in 1997, during the Sri Sathya Sai Unity Cup match between India XI and World XI, at the Sri Sathya Sai hill view stadium. In 1997, Tendulkar captained the Indian National side, playing against a World Eleven team, in the Unity Cup which was held at the Sri Sathya Sai Hill View Stadium in Puttaparthi, in Baba\\'s presence. The death of Sai Baba on Tendulkar\\'s 38th birthday caused him to cancel his celebrations. The cricketer is also known to celebrate Ganesh Chaturthi at home and frequently visits temples during night when it is calm and quiet.\\nTendulkar\\'s popularity has led him to be a pioneer in India on cricket business dealings when he signed a record sports management deal with WorldTel in 1995, the value of the deal being ₹300 million  over five years. His next contract with WorldTel in 2001 was valued at ₹800 million  over five years. In 2006, he signed a contract with Saatchi and Saatchi\\'s ICONIX valued at ₹1.8 billion  over three years.\\nTendulkar has opened two restaurants: Tendulkar\\'s  and Sachin\\'s  and Bangalore. Tendulkar owns these restaurants in partnership with Sanjay Narang of Mars Restaurants.\\nTendulkar co-owned the Kerala Blasters FC in the Indian Super League Football in association with PVP Ventures owned by Prasad V Potluri till 2017. The team has been named as Kerala Blasters after his nickname \"Master Blaster\". He also jointly owns the badminton team Bengaluru Blasters which participates in the Premier Badminton League.\\nIn 2013, Tendulkar was listed at 51st position in Forbes\\' list of world\\'s highest-paid athletes, with his total earnings estimated to be US$22\\xa0million. In October 2013, the net worth of Tendulkar was estimated at US$160\\xa0million by Wealth-X, making him India\\'s wealthiest cricket player.\\nSachin Tendulkar has been sponsored by several brands throughout his career including Boost , Pepsi , Action Shoes , MRF , Adidas , Britannia , Fiat Palio , TVS , ESPN Star Sports , Sunfeast , Canon , Airtel , Rorito , G-Hanz , Sanyo BPL , Toshiba , Colgate-Palmolive, Philips, VISA, Castrol India , Ujala Techno Bright, Coca-Cola , Musafir.com , and Paytm First Games .\\nHe has also been a spokesperson for National Egg Coordination Committee , AIDS Awareness Campaign  and Luminous India .\\nIn April 2012, Tendulkar accepted the Rajya Sabha nomination proposed by the President of India and became the first active sportsperson and cricketer to have been nominated. Former cricketers Sanjay Manjrekar, Ajit Wadekar, Madan Lal expressed their surprise over this move. He took the oath of office on 4 June. He refused to take the bungalow allotted to him in New Delhi calling it \"waste of taxpayers\\' money\" as he resides in Mumbai. He met with some controversy over his attendance at Rajya Sabha proceedings. In 2019, Tendulkar contributed Rs. 22 lakh from his MPLAD funds allotted to him during his stint as Rajya Sabha MP for the renovation of a Children\\'s Park in East Bandra. In the past six years as a Rajya Sabha MP, Sachin had drawn nearly Rs 90 lakh in salaries and other monthly allowances. He donated this entire salary and allowances to the Prime Minister\\'s Relief Fund. The PMO has also issued a letter of acknowledgement which states: \"Prime Minister acknowledges this thoughtful gesture and conveys his gratitude. These contributions will be of immense help in providing assistance to the persons in distress.\\nTendulkar was one of the first nine celebrities appointed by the Indian Prime Minister Narendra Modi to spread awareness regarding cleanliness and make Swachh Bharat Mission  a people\\'s movement. The cricketer accepted the nomination and posted a video of sweeping a street with his friends in Mumbai. In 2017, he joined hands with Aditya Thackeray and sanitation workers to clean the Bandra Fort to contribute to Swachhata Hi Seva  campaign. In 2019, he was awarded the most effective Swachhta Ambassador by India Today Group\\'s fifth edition of Safaigiri awards for using his popularity and fame to promote cleanliness and ensure the country achieves its goal of a Swachh Bharat. On the occasion of the World Nature Conservation day 2020, the cricketer took to twitter to spread message about the preservation of biodiversity.\\nTendulkar sponsors 200 underprivileged children every year through Apnalaya, a Mumbai-based NGO associated with his mother-in-law, Annabel Mehta. A request by him on Twitter raised ₹10.2 million  through Sachin\\'s crusade against cancer for the Crusade against Cancer foundation. Sachin Tendulkar spent nine hours on the 12-hour Coca-Cola-NDTV Support My School telethon on 18 September 2011 that helped raise ₹70 million  to ₹20 million  more than the target—for the creation of basic facilities, particularly toilets for girl students, in 140 government schools across the country.\\nSachin Tendulkar\\'s autobiography, Playing It My Way, was released on 6 November 2014. It was listed in the 2016 Limca Book of Records for breaking the record for adult hardback pre-publication orders, with 1,50,289 copies confirmed.\\nOn 27 March 2021, Tendulkar tested positive for Coronavirus disease, and was admitted to hospital on 2 April, \"as a matter of abundant precaution under medical advice\", and hoping to return home in a few days.\\nSachin Tendulkar has been the subject of various books. The following is the listing of books focused on Tendulkar\\'s career:\\n'"
            ]
          },
          "metadata": {
            "tags": []
          },
          "execution_count": 8
        }
      ]
    },
    {
      "cell_type": "code",
      "metadata": {
        "id": "bzGgTPmbYW1X"
      },
      "source": [
        "import spacy"
      ],
      "execution_count": null,
      "outputs": []
    },
    {
      "cell_type": "code",
      "metadata": {
        "colab": {
          "base_uri": "https://localhost:8080/"
        },
        "id": "hKTHKb2FYaqT",
        "outputId": "aedd0b14-d7dd-403c-8f81-ac503f66aa8d"
      },
      "source": [
        "import spacy.cli\n",
        "spacy.cli.download(\"en_core_web_lg\")"
      ],
      "execution_count": null,
      "outputs": [
        {
          "output_type": "stream",
          "text": [
            "\u001b[38;5;2m✔ Download and installation successful\u001b[0m\n",
            "You can now load the model via spacy.load('en_core_web_lg')\n"
          ],
          "name": "stdout"
        }
      ]
    },
    {
      "cell_type": "code",
      "metadata": {
        "id": "L5Gpq09YYeGk"
      },
      "source": [
        "nlp = spacy.load('en_core_web_lg')"
      ],
      "execution_count": null,
      "outputs": []
    },
    {
      "cell_type": "code",
      "metadata": {
        "id": "wgxysEvRZg06"
      },
      "source": [
        "doc = nlp(SRT)"
      ],
      "execution_count": null,
      "outputs": []
    },
    {
      "cell_type": "code",
      "metadata": {
        "colab": {
          "base_uri": "https://localhost:8080/"
        },
        "id": "z10RGYEOZpzM",
        "outputId": "6e61d798-e403-48a8-fea3-7cff83db9883"
      },
      "source": [
        "print(len(list(doc.sents)))"
      ],
      "execution_count": null,
      "outputs": [
        {
          "output_type": "stream",
          "text": [
            "460\n"
          ],
          "name": "stdout"
        }
      ]
    },
    {
      "cell_type": "code",
      "metadata": {
        "colab": {
          "base_uri": "https://localhost:8080/"
        },
        "id": "56l3uip8Z7oM",
        "outputId": "c889a10b-f386-4edd-a073-a33de38dc8eb"
      },
      "source": [
        "list(doc.sents)[3]"
      ],
      "execution_count": null,
      "outputs": [
        {
          "output_type": "execute_result",
          "data": {
            "text/plain": [
              "In 2013, he was the only Indian cricketer included in an all-time Test World XI named to mark the 150th anniversary of Wisden Cricketers' Almanack."
            ]
          },
          "metadata": {
            "tags": []
          },
          "execution_count": 16
        }
      ]
    },
    {
      "cell_type": "code",
      "metadata": {
        "id": "1SL6pQFnZ-ig"
      },
      "source": [
        "SRT_df = pd.DataFrame({'Sentences': list(doc.sents)})  "
      ],
      "execution_count": null,
      "outputs": []
    },
    {
      "cell_type": "code",
      "metadata": {
        "colab": {
          "base_uri": "https://localhost:8080/",
          "height": 202
        },
        "id": "UNd6rM7oaNnH",
        "outputId": "13f3c1b9-7331-42a1-ff78-7f2aa4aa4868"
      },
      "source": [
        "SRT_df.head()"
      ],
      "execution_count": null,
      "outputs": [
        {
          "output_type": "execute_result",
          "data": {
            "text/html": [
              "<div>\n",
              "<style scoped>\n",
              "    .dataframe tbody tr th:only-of-type {\n",
              "        vertical-align: middle;\n",
              "    }\n",
              "\n",
              "    .dataframe tbody tr th {\n",
              "        vertical-align: top;\n",
              "    }\n",
              "\n",
              "    .dataframe thead th {\n",
              "        text-align: right;\n",
              "    }\n",
              "</style>\n",
              "<table border=\"1\" class=\"dataframe\">\n",
              "  <thead>\n",
              "    <tr style=\"text-align: right;\">\n",
              "      <th></th>\n",
              "      <th>Sentences</th>\n",
              "    </tr>\n",
              "  </thead>\n",
              "  <tbody>\n",
              "    <tr>\n",
              "      <th>0</th>\n",
              "      <td>(Sachin, Ramesh, Tendulkar, ;, born, 24, April...</td>\n",
              "    </tr>\n",
              "    <tr>\n",
              "      <th>1</th>\n",
              "      <td>(He, is, widely, regarded, as, one, of, the, g...</td>\n",
              "    </tr>\n",
              "    <tr>\n",
              "      <th>2</th>\n",
              "      <td>(He, is, the, highest, run, scorer, of, all, t...</td>\n",
              "    </tr>\n",
              "    <tr>\n",
              "      <th>3</th>\n",
              "      <td>(In, 2013, ,, he, was, the, only, Indian, cric...</td>\n",
              "    </tr>\n",
              "    <tr>\n",
              "      <th>4</th>\n",
              "      <td>(He, is, affectionately, known, as, Little, Ma...</td>\n",
              "    </tr>\n",
              "  </tbody>\n",
              "</table>\n",
              "</div>"
            ],
            "text/plain": [
              "                                           Sentences\n",
              "0  (Sachin, Ramesh, Tendulkar, ;, born, 24, April...\n",
              "1  (He, is, widely, regarded, as, one, of, the, g...\n",
              "2  (He, is, the, highest, run, scorer, of, all, t...\n",
              "3  (In, 2013, ,, he, was, the, only, Indian, cric...\n",
              "4  (He, is, affectionately, known, as, Little, Ma..."
            ]
          },
          "metadata": {
            "tags": []
          },
          "execution_count": 19
        }
      ]
    },
    {
      "cell_type": "code",
      "metadata": {
        "colab": {
          "base_uri": "https://localhost:8080/"
        },
        "id": "l3oV0eO_aRZf",
        "outputId": "f3ac26ba-8be2-4c87-92f6-486a04627e56"
      },
      "source": [
        "SRT_df['Sentences'][1]"
      ],
      "execution_count": null,
      "outputs": [
        {
          "output_type": "execute_result",
          "data": {
            "text/plain": [
              "He is widely regarded as one of the greatest batsmen in the history of cricket."
            ]
          },
          "metadata": {
            "tags": []
          },
          "execution_count": 23
        }
      ]
    },
    {
      "cell_type": "code",
      "metadata": {
        "id": "eKeI08tGaauk"
      },
      "source": [
        "SRT_df.to_csv(\"data.csv\", sep='\\t')"
      ],
      "execution_count": null,
      "outputs": []
    },
    {
      "cell_type": "code",
      "metadata": {
        "colab": {
          "base_uri": "https://localhost:8080/",
          "height": 17
        },
        "id": "H3BOko8-bE_b",
        "outputId": "b4aa849e-3b1f-4456-fb9e-29e5133222ce"
      },
      "source": [
        "from google.colab import files\n",
        "files.download(\"data.csv\")"
      ],
      "execution_count": null,
      "outputs": [
        {
          "output_type": "display_data",
          "data": {
            "application/javascript": [
              "\n",
              "    async function download(id, filename, size) {\n",
              "      if (!google.colab.kernel.accessAllowed) {\n",
              "        return;\n",
              "      }\n",
              "      const div = document.createElement('div');\n",
              "      const label = document.createElement('label');\n",
              "      label.textContent = `Downloading \"${filename}\": `;\n",
              "      div.appendChild(label);\n",
              "      const progress = document.createElement('progress');\n",
              "      progress.max = size;\n",
              "      div.appendChild(progress);\n",
              "      document.body.appendChild(div);\n",
              "\n",
              "      const buffers = [];\n",
              "      let downloaded = 0;\n",
              "\n",
              "      const channel = await google.colab.kernel.comms.open(id);\n",
              "      // Send a message to notify the kernel that we're ready.\n",
              "      channel.send({})\n",
              "\n",
              "      for await (const message of channel.messages) {\n",
              "        // Send a message to notify the kernel that we're ready.\n",
              "        channel.send({})\n",
              "        if (message.buffers) {\n",
              "          for (const buffer of message.buffers) {\n",
              "            buffers.push(buffer);\n",
              "            downloaded += buffer.byteLength;\n",
              "            progress.value = downloaded;\n",
              "          }\n",
              "        }\n",
              "      }\n",
              "      const blob = new Blob(buffers, {type: 'application/binary'});\n",
              "      const a = document.createElement('a');\n",
              "      a.href = window.URL.createObjectURL(blob);\n",
              "      a.download = filename;\n",
              "      div.appendChild(a);\n",
              "      a.click();\n",
              "      div.remove();\n",
              "    }\n",
              "  "
            ],
            "text/plain": [
              "<IPython.core.display.Javascript object>"
            ]
          },
          "metadata": {
            "tags": []
          }
        },
        {
          "output_type": "display_data",
          "data": {
            "application/javascript": [
              "download(\"download_140d6cfe-ab95-4809-883c-887ed3ef47bf\", \"data.csv\", 60499)"
            ],
            "text/plain": [
              "<IPython.core.display.Javascript object>"
            ]
          },
          "metadata": {
            "tags": []
          }
        }
      ]
    },
    {
      "cell_type": "code",
      "metadata": {
        "id": "3nECMWzRbIku"
      },
      "source": [
        ""
      ],
      "execution_count": null,
      "outputs": []
    }
  ]
}